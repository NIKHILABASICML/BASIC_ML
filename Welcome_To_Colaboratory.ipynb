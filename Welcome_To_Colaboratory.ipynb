{
  "nbformat": 4,
  "nbformat_minor": 0,
  "metadata": {
    "colab": {
      "name": "Welcome To Colaboratory",
      "provenance": [],
      "collapsed_sections": [],
      "include_colab_link": true
    },
    "kernelspec": {
      "display_name": "Python 3",
      "name": "python3"
    }
  },
  "cells": [
    {
      "cell_type": "markdown",
      "metadata": {
        "id": "view-in-github",
        "colab_type": "text"
      },
      "source": [
        "<a href=\"https://colab.research.google.com/github/NIKHILABASICML/BASIC_ML/blob/main/Welcome_To_Colaboratory.ipynb\" target=\"_parent\"><img src=\"https://colab.research.google.com/assets/colab-badge.svg\" alt=\"Open In Colab\"/></a>"
      ]
    },
    {
      "cell_type": "markdown",
      "metadata": {
        "id": "Vzdw9H6Axaif"
      },
      "source": [
        "1.Add of two numbers"
      ]
    },
    {
      "cell_type": "code",
      "metadata": {
        "id": "ELR7NREUxm7y",
        "outputId": "9ca720e8-9e6a-477d-da77-c5eacae5c0b8",
        "colab": {
          "base_uri": "https://localhost:8080/"
        }
      },
      "source": [
        "Num_1=int(input())\n",
        "Num_2=int(input())\n",
        "s=Num_1+Num_2\n",
        "print(\"Sum : \"+str(s))"
      ],
      "execution_count": 4,
      "outputs": [
        {
          "output_type": "stream",
          "text": [
            "3\n",
            "4\n",
            "Sum :7\n"
          ],
          "name": "stdout"
        }
      ]
    },
    {
      "cell_type": "markdown",
      "metadata": {
        "id": "x8PM22zdydZB"
      },
      "source": [
        "2.Greater number"
      ]
    },
    {
      "cell_type": "code",
      "metadata": {
        "id": "egksYUvLym-B",
        "outputId": "c91aacb0-5092-454c-c261-434f6f841e26",
        "colab": {
          "base_uri": "https://localhost:8080/"
        }
      },
      "source": [
        "Num_1=int(input())\n",
        "Num_2=int(input())\n",
        "if Num_1>Num_2:\n",
        "   print(\"Greater number is : \"+str(Num_1))\n",
        "else:\n",
        "   print(\"Greater number is : \"+str(Num_2))"
      ],
      "execution_count": 6,
      "outputs": [
        {
          "output_type": "stream",
          "text": [
            "3\n",
            "4\n",
            "Greater number is : 4\n"
          ],
          "name": "stdout"
        }
      ]
    },
    {
      "cell_type": "markdown",
      "metadata": {
        "id": "-yMvXIUGzSxl"
      },
      "source": [
        "3.Reverse of a number"
      ]
    },
    {
      "cell_type": "code",
      "metadata": {
        "id": "64Punj_LzWJ6",
        "outputId": "483b7d09-bd33-4f6b-b942-f0d10a0ffc52",
        "colab": {
          "base_uri": "https://localhost:8080/"
        }
      },
      "source": [
        "Num=int(input())\n",
        "S=0\n",
        "while Num>0:\n",
        "    K=Num%10\n",
        "    S=S*10+K\n",
        "    Num=Num//10\n",
        "print(\"Reverse of the given number is : \"+str(S))"
      ],
      "execution_count": 12,
      "outputs": [
        {
          "output_type": "stream",
          "text": [
            "45367\n",
            "Reverse of the given number is : 76354\n"
          ],
          "name": "stdout"
        }
      ]
    }
  ]
}